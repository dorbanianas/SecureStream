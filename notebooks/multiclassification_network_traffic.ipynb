{
  "cells": [
    {
      "cell_type": "markdown",
      "metadata": {
        "id": "UlVrVt4bFvg_"
      },
      "source": [
        "## Download the CSE-CIC-IDS2018 dataset"
      ]
    },
    {
      "cell_type": "code",
      "execution_count": 2,
      "metadata": {},
      "outputs": [
        {
          "name": "stdout",
          "output_type": "stream",
          "text": [
            "Requirement already satisfied: awscli in /home/anas/Documents/Projects/Threat-detection/venv/lib/python3.11/site-packages (1.32.39)\n",
            "Requirement already satisfied: botocore==1.34.39 in /home/anas/Documents/Projects/Threat-detection/venv/lib/python3.11/site-packages (from awscli) (1.34.39)\n",
            "Requirement already satisfied: docutils<0.17,>=0.10 in /home/anas/Documents/Projects/Threat-detection/venv/lib/python3.11/site-packages (from awscli) (0.16)\n",
            "Requirement already satisfied: s3transfer<0.11.0,>=0.10.0 in /home/anas/Documents/Projects/Threat-detection/venv/lib/python3.11/site-packages (from awscli) (0.10.0)\n",
            "Requirement already satisfied: PyYAML<6.1,>=3.10 in /home/anas/Documents/Projects/Threat-detection/venv/lib/python3.11/site-packages (from awscli) (6.0.1)\n",
            "Requirement already satisfied: colorama<0.4.5,>=0.2.5 in /home/anas/Documents/Projects/Threat-detection/venv/lib/python3.11/site-packages (from awscli) (0.4.4)\n",
            "Requirement already satisfied: rsa<4.8,>=3.1.2 in /home/anas/Documents/Projects/Threat-detection/venv/lib/python3.11/site-packages (from awscli) (4.7.2)\n",
            "Requirement already satisfied: jmespath<2.0.0,>=0.7.1 in /home/anas/Documents/Projects/Threat-detection/venv/lib/python3.11/site-packages (from botocore==1.34.39->awscli) (1.0.1)\n",
            "Requirement already satisfied: python-dateutil<3.0.0,>=2.1 in /home/anas/Documents/Projects/Threat-detection/venv/lib/python3.11/site-packages (from botocore==1.34.39->awscli) (2.8.2)\n",
            "Requirement already satisfied: urllib3<2.1,>=1.25.4 in /home/anas/Documents/Projects/Threat-detection/venv/lib/python3.11/site-packages (from botocore==1.34.39->awscli) (2.0.7)\n",
            "Requirement already satisfied: pyasn1>=0.1.3 in /home/anas/Documents/Projects/Threat-detection/venv/lib/python3.11/site-packages (from rsa<4.8,>=3.1.2->awscli) (0.5.1)\n",
            "Requirement already satisfied: six>=1.5 in /home/anas/Documents/Projects/Threat-detection/venv/lib/python3.11/site-packages (from python-dateutil<3.0.0,>=2.1->botocore==1.34.39->awscli) (1.16.0)\n",
            "\n",
            "\u001b[1m[\u001b[0m\u001b[34;49mnotice\u001b[0m\u001b[1;39;49m]\u001b[0m\u001b[39;49m A new release of pip is available: \u001b[0m\u001b[31;49m23.2.1\u001b[0m\u001b[39;49m -> \u001b[0m\u001b[32;49m24.0\u001b[0m\n",
            "\u001b[1m[\u001b[0m\u001b[34;49mnotice\u001b[0m\u001b[1;39;49m]\u001b[0m\u001b[39;49m To update, run: \u001b[0m\u001b[32;49mpip install --upgrade pip\u001b[0m\n",
            "The directory '../data/CSE-CIC-IDS2018' is not empty. Data download skipped.\n"
          ]
        }
      ],
      "source": [
        "# Install AWS CLI (uncomment and run this cell if you haven't installed it yet)\n",
        "!../venv/bin/pip install awscli --upgrade\n",
        "\n",
        "import os\n",
        "import subprocess\n",
        "\n",
        "# Define the directory path\n",
        "directory = \"../data/CSE-CIC-IDS2018\"\n",
        "\n",
        "# Check if the directory is empty\n",
        "if not os.listdir(directory):\n",
        "    # Download data from AWS S3 bucket\n",
        "    subprocess.run([\"aws\", \"s3\", \"sync\", \"--no-sign-request\", \"--recursive\", \"s3://cse-cic-ids2018/Processed Traffic Data for ML Algorithms/\", directory], check=True)\n",
        "    print(\"Data downloaded successfully.\")\n",
        "else:\n",
        "    print(f\"The directory '{directory}' is not empty. Data download skipped.\")"
      ]
    },
    {
      "cell_type": "markdown",
      "metadata": {
        "id": "5kTBtr-Ibisb"
      },
      "source": [
        "## Data Exploration\n",
        "\n"
      ]
    },
    {
      "cell_type": "code",
      "execution_count": 2,
      "metadata": {},
      "outputs": [
        {
          "name": "stdout",
          "output_type": "stream",
          "text": [
            "Requirement already satisfied: pandas in ./multiclass/lib/python3.11/site-packages (2.2.0)\n",
            "Requirement already satisfied: scikit-learn in ./multiclass/lib/python3.11/site-packages (1.4.0)\n",
            "Requirement already satisfied: numpy<2,>=1.23.2 in ./multiclass/lib/python3.11/site-packages (from pandas) (1.26.4)\n",
            "Requirement already satisfied: python-dateutil>=2.8.2 in ./multiclass/lib/python3.11/site-packages (from pandas) (2.8.2)\n",
            "Requirement already satisfied: pytz>=2020.1 in ./multiclass/lib/python3.11/site-packages (from pandas) (2024.1)\n",
            "Requirement already satisfied: tzdata>=2022.7 in ./multiclass/lib/python3.11/site-packages (from pandas) (2023.4)\n",
            "Requirement already satisfied: scipy>=1.6.0 in ./multiclass/lib/python3.11/site-packages (from scikit-learn) (1.12.0)\n",
            "Requirement already satisfied: joblib>=1.2.0 in ./multiclass/lib/python3.11/site-packages (from scikit-learn) (1.3.2)\n",
            "Requirement already satisfied: threadpoolctl>=2.0.0 in ./multiclass/lib/python3.11/site-packages (from scikit-learn) (3.2.0)\n",
            "Requirement already satisfied: six>=1.5 in ./multiclass/lib/python3.11/site-packages (from python-dateutil>=2.8.2->pandas) (1.16.0)\n",
            "\n",
            "\u001b[1m[\u001b[0m\u001b[34;49mnotice\u001b[0m\u001b[1;39;49m]\u001b[0m\u001b[39;49m A new release of pip is available: \u001b[0m\u001b[31;49m23.2.1\u001b[0m\u001b[39;49m -> \u001b[0m\u001b[32;49m24.0\u001b[0m\n",
            "\u001b[1m[\u001b[0m\u001b[34;49mnotice\u001b[0m\u001b[1;39;49m]\u001b[0m\u001b[39;49m To update, run: \u001b[0m\u001b[32;49mpip install --upgrade pip\u001b[0m\n"
          ]
        }
      ],
      "source": [
        "! ../venv/bin/pip install pandas pandas scikit-learn"
      ]
    },
    {
      "cell_type": "code",
      "execution_count": 3,
      "metadata": {
        "id": "4Xgqhe0NXYdQ"
      },
      "outputs": [
        {
          "name": "stderr",
          "output_type": "stream",
          "text": [
            "/tmp/ipykernel_123364/386461427.py:1: DeprecationWarning: \n",
            "Pyarrow will become a required dependency of pandas in the next major release of pandas (pandas 3.0),\n",
            "(to allow more performant data types, such as the Arrow string type, and better interoperability with other libraries)\n",
            "but was not found to be installed on your system.\n",
            "If this would cause problems for you,\n",
            "please provide us feedback at https://github.com/pandas-dev/pandas/issues/54466\n",
            "        \n",
            "  import pandas as pd\n"
          ]
        }
      ],
      "source": [
        "import pandas as pd\n",
        "import os\n",
        "\n",
        "from lib.helper_functions import *"
      ]
    },
    {
      "cell_type": "code",
      "execution_count": 19,
      "metadata": {
        "id": "rI7S5Y2gXP6X"
      },
      "outputs": [
        {
          "name": "stdout",
          "output_type": "stream",
          "text": [
            "dataframe file exists, loading dataframe...\n",
            "dataframe loaded.\n"
          ]
        }
      ],
      "source": [
        "# if saved dataframe file exists, load\n",
        "# if dataframe isn't saved, load raw csv file and save the dataframe\n",
        "dataframe_file = 'data/flowmeter_dataframe.pkl'\n",
        "exists = os.path.isfile(dataframe_file)\n",
        "if exists:\n",
        "    print('dataframe file exists, loading dataframe...')\n",
        "    df = pd.read_pickle(dataframe_file)\n",
        "    print('dataframe loaded.')\n",
        "else:\n",
        "    directory = 'data/CSE-CIC-IDS2018/'\n",
        "    df = pd.DataFrame()\n",
        "    df = read_clean_combine_csv(directory, df, 'Thuesday-20-02-2018_TrafficForML_CICFlowMeter.csv')\n",
        "    # save dataframe to file for future use\n",
        "    pd.to_pickle(df, dataframe_file)"
      ]
    },
    {
      "cell_type": "code",
      "execution_count": 5,
      "metadata": {
        "id": "o0BCQndLXP6X",
        "outputId": "ad020a46-d61a-436e-8ccf-e1c8e17f5fd9"
      },
      "outputs": [
        {
          "data": {
            "text/plain": [
              "Index(['dst_port', 'protocol', 'timestamp', 'flow_duration', 'tot_fwd_pkts',\n",
              "       'tot_bwd_pkts', 'totlen_fwd_pkts', 'totlen_bwd_pkts', 'fwd_pkt_len_max',\n",
              "       'fwd_pkt_len_min', 'fwd_pkt_len_mean', 'fwd_pkt_len_std',\n",
              "       'bwd_pkt_len_max', 'bwd_pkt_len_min', 'bwd_pkt_len_mean',\n",
              "       'bwd_pkt_len_std', 'flow_byts_s', 'flow_pkts_s', 'flow_iat_mean',\n",
              "       'flow_iat_std', 'flow_iat_max', 'flow_iat_min', 'fwd_iat_tot',\n",
              "       'fwd_iat_mean', 'fwd_iat_std', 'fwd_iat_max', 'fwd_iat_min',\n",
              "       'bwd_iat_tot', 'bwd_iat_mean', 'bwd_iat_std', 'bwd_iat_max',\n",
              "       'bwd_iat_min', 'fwd_psh_flags', 'bwd_psh_flags', 'fwd_urg_flags',\n",
              "       'bwd_urg_flags', 'fwd_header_len', 'bwd_header_len', 'fwd_pkts_s',\n",
              "       'bwd_pkts_s', 'pkt_len_min', 'pkt_len_max', 'pkt_len_mean',\n",
              "       'pkt_len_std', 'pkt_len_var', 'fin_flag_cnt', 'syn_flag_cnt',\n",
              "       'rst_flag_cnt', 'psh_flag_cnt', 'ack_flag_cnt', 'urg_flag_cnt',\n",
              "       'cwe_flag_count', 'ece_flag_cnt', 'down_up_ratio', 'pkt_size_avg',\n",
              "       'fwd_seg_size_avg', 'bwd_seg_size_avg', 'fwd_byts_b_avg',\n",
              "       'fwd_pkts_b_avg', 'fwd_blk_rate_avg', 'bwd_byts_b_avg',\n",
              "       'bwd_pkts_b_avg', 'bwd_blk_rate_avg', 'subflow_fwd_pkts',\n",
              "       'subflow_fwd_byts', 'subflow_bwd_pkts', 'subflow_bwd_byts',\n",
              "       'init_fwd_win_byts', 'init_bwd_win_byts', 'fwd_act_data_pkts',\n",
              "       'fwd_seg_size_min', 'active_mean', 'active_std', 'active_max',\n",
              "       'active_min', 'idle_mean', 'idle_std', 'idle_max', 'idle_min', 'label'],\n",
              "      dtype='object')"
            ]
          },
          "execution_count": 5,
          "metadata": {},
          "output_type": "execute_result"
        }
      ],
      "source": [
        "df.columns"
      ]
    },
    {
      "cell_type": "code",
      "execution_count": 6,
      "metadata": {
        "id": "7CrVbJevXP6Y",
        "outputId": "df6deca5-0a74-49f0-bdb2-ad942f3a567c"
      },
      "outputs": [
        {
          "data": {
            "text/plain": [
              "2393.8285989761353"
            ]
          },
          "execution_count": 6,
          "metadata": {},
          "output_type": "execute_result"
        }
      ],
      "source": [
        "df.memory_usage().sum() / 1024**2"
      ]
    },
    {
      "cell_type": "code",
      "execution_count": 7,
      "metadata": {
        "id": "vsylmoCcXP6Z",
        "outputId": "060c311e-0324-4b03-9fd4-0b4f80fc4551"
      },
      "outputs": [
        {
          "data": {
            "text/plain": [
              "8284195"
            ]
          },
          "execution_count": 7,
          "metadata": {},
          "output_type": "execute_result"
        }
      ],
      "source": [
        "len(df)"
      ]
    },
    {
      "cell_type": "code",
      "execution_count": 8,
      "metadata": {
        "id": "MNyqCr2DXP6Z"
      },
      "outputs": [],
      "source": [
        "df = df.sort_values(by=['timestamp'])"
      ]
    },
    {
      "cell_type": "code",
      "execution_count": 9,
      "metadata": {
        "id": "6TDAn8yHXP6Z"
      },
      "outputs": [],
      "source": [
        "df = df[df['timestamp'] > pd.to_datetime('2018-01-01')]"
      ]
    },
    {
      "cell_type": "code",
      "execution_count": 10,
      "metadata": {
        "id": "Tj99Su3nXP6a",
        "outputId": "a985be44-c98a-47a7-daea-4d7c8ce10d85"
      },
      "outputs": [
        {
          "data": {
            "text/html": [
              "<div>\n",
              "<style scoped>\n",
              "    .dataframe tbody tr th:only-of-type {\n",
              "        vertical-align: middle;\n",
              "    }\n",
              "\n",
              "    .dataframe tbody tr th {\n",
              "        vertical-align: top;\n",
              "    }\n",
              "\n",
              "    .dataframe thead th {\n",
              "        text-align: right;\n",
              "    }\n",
              "</style>\n",
              "<table border=\"1\" class=\"dataframe\">\n",
              "  <thead>\n",
              "    <tr style=\"text-align: right;\">\n",
              "      <th></th>\n",
              "      <th>dst_port</th>\n",
              "      <th>protocol</th>\n",
              "      <th>timestamp</th>\n",
              "      <th>flow_duration</th>\n",
              "      <th>tot_fwd_pkts</th>\n",
              "      <th>tot_bwd_pkts</th>\n",
              "      <th>totlen_fwd_pkts</th>\n",
              "      <th>totlen_bwd_pkts</th>\n",
              "      <th>fwd_pkt_len_max</th>\n",
              "      <th>fwd_pkt_len_min</th>\n",
              "      <th>...</th>\n",
              "      <th>fwd_seg_size_min</th>\n",
              "      <th>active_mean</th>\n",
              "      <th>active_std</th>\n",
              "      <th>active_max</th>\n",
              "      <th>active_min</th>\n",
              "      <th>idle_mean</th>\n",
              "      <th>idle_std</th>\n",
              "      <th>idle_max</th>\n",
              "      <th>idle_min</th>\n",
              "      <th>label</th>\n",
              "    </tr>\n",
              "  </thead>\n",
              "  <tbody>\n",
              "    <tr>\n",
              "      <th>2870002</th>\n",
              "      <td>445</td>\n",
              "      <td>6</td>\n",
              "      <td>2018-02-14 01:00:00</td>\n",
              "      <td>842527</td>\n",
              "      <td>6</td>\n",
              "      <td>5</td>\n",
              "      <td>455</td>\n",
              "      <td>338</td>\n",
              "      <td>140</td>\n",
              "      <td>0</td>\n",
              "      <td>...</td>\n",
              "      <td>20</td>\n",
              "      <td>0.0</td>\n",
              "      <td>0.00000</td>\n",
              "      <td>0</td>\n",
              "      <td>0</td>\n",
              "      <td>0.0</td>\n",
              "      <td>0.00</td>\n",
              "      <td>0</td>\n",
              "      <td>0</td>\n",
              "      <td>Benign</td>\n",
              "    </tr>\n",
              "    <tr>\n",
              "      <th>2553995</th>\n",
              "      <td>443</td>\n",
              "      <td>6</td>\n",
              "      <td>2018-02-14 01:00:00</td>\n",
              "      <td>111873906</td>\n",
              "      <td>7</td>\n",
              "      <td>3</td>\n",
              "      <td>169</td>\n",
              "      <td>92</td>\n",
              "      <td>46</td>\n",
              "      <td>0</td>\n",
              "      <td>...</td>\n",
              "      <td>20</td>\n",
              "      <td>155665.5</td>\n",
              "      <td>161.92746</td>\n",
              "      <td>155780</td>\n",
              "      <td>155551</td>\n",
              "      <td>55780940.0</td>\n",
              "      <td>3933152.75</td>\n",
              "      <td>58562100</td>\n",
              "      <td>52999782</td>\n",
              "      <td>Benign</td>\n",
              "    </tr>\n",
              "    <tr>\n",
              "      <th>2737017</th>\n",
              "      <td>80</td>\n",
              "      <td>6</td>\n",
              "      <td>2018-02-14 01:00:00</td>\n",
              "      <td>624</td>\n",
              "      <td>3</td>\n",
              "      <td>4</td>\n",
              "      <td>161</td>\n",
              "      <td>488</td>\n",
              "      <td>161</td>\n",
              "      <td>0</td>\n",
              "      <td>...</td>\n",
              "      <td>20</td>\n",
              "      <td>0.0</td>\n",
              "      <td>0.00000</td>\n",
              "      <td>0</td>\n",
              "      <td>0</td>\n",
              "      <td>0.0</td>\n",
              "      <td>0.00</td>\n",
              "      <td>0</td>\n",
              "      <td>0</td>\n",
              "      <td>Benign</td>\n",
              "    </tr>\n",
              "    <tr>\n",
              "      <th>2737014</th>\n",
              "      <td>80</td>\n",
              "      <td>6</td>\n",
              "      <td>2018-02-14 01:00:00</td>\n",
              "      <td>89</td>\n",
              "      <td>2</td>\n",
              "      <td>0</td>\n",
              "      <td>0</td>\n",
              "      <td>0</td>\n",
              "      <td>0</td>\n",
              "      <td>0</td>\n",
              "      <td>...</td>\n",
              "      <td>20</td>\n",
              "      <td>0.0</td>\n",
              "      <td>0.00000</td>\n",
              "      <td>0</td>\n",
              "      <td>0</td>\n",
              "      <td>0.0</td>\n",
              "      <td>0.00</td>\n",
              "      <td>0</td>\n",
              "      <td>0</td>\n",
              "      <td>Benign</td>\n",
              "    </tr>\n",
              "    <tr>\n",
              "      <th>2737015</th>\n",
              "      <td>80</td>\n",
              "      <td>6</td>\n",
              "      <td>2018-02-14 01:00:00</td>\n",
              "      <td>667</td>\n",
              "      <td>3</td>\n",
              "      <td>4</td>\n",
              "      <td>161</td>\n",
              "      <td>488</td>\n",
              "      <td>161</td>\n",
              "      <td>0</td>\n",
              "      <td>...</td>\n",
              "      <td>20</td>\n",
              "      <td>0.0</td>\n",
              "      <td>0.00000</td>\n",
              "      <td>0</td>\n",
              "      <td>0</td>\n",
              "      <td>0.0</td>\n",
              "      <td>0.00</td>\n",
              "      <td>0</td>\n",
              "      <td>0</td>\n",
              "      <td>Benign</td>\n",
              "    </tr>\n",
              "  </tbody>\n",
              "</table>\n",
              "<p>5 rows × 80 columns</p>\n",
              "</div>"
            ],
            "text/plain": [
              "        dst_port protocol           timestamp  flow_duration  tot_fwd_pkts  \\\n",
              "2870002      445        6 2018-02-14 01:00:00         842527             6   \n",
              "2553995      443        6 2018-02-14 01:00:00      111873906             7   \n",
              "2737017       80        6 2018-02-14 01:00:00            624             3   \n",
              "2737014       80        6 2018-02-14 01:00:00             89             2   \n",
              "2737015       80        6 2018-02-14 01:00:00            667             3   \n",
              "\n",
              "         tot_bwd_pkts  totlen_fwd_pkts  totlen_bwd_pkts  fwd_pkt_len_max  \\\n",
              "2870002             5              455              338              140   \n",
              "2553995             3              169               92               46   \n",
              "2737017             4              161              488              161   \n",
              "2737014             0                0                0                0   \n",
              "2737015             4              161              488              161   \n",
              "\n",
              "         fwd_pkt_len_min  ...  fwd_seg_size_min  active_mean  active_std  \\\n",
              "2870002                0  ...                20          0.0     0.00000   \n",
              "2553995                0  ...                20     155665.5   161.92746   \n",
              "2737017                0  ...                20          0.0     0.00000   \n",
              "2737014                0  ...                20          0.0     0.00000   \n",
              "2737015                0  ...                20          0.0     0.00000   \n",
              "\n",
              "         active_max  active_min   idle_mean    idle_std  idle_max  idle_min  \\\n",
              "2870002           0           0         0.0        0.00         0         0   \n",
              "2553995      155780      155551  55780940.0  3933152.75  58562100  52999782   \n",
              "2737017           0           0         0.0        0.00         0         0   \n",
              "2737014           0           0         0.0        0.00         0         0   \n",
              "2737015           0           0         0.0        0.00         0         0   \n",
              "\n",
              "          label  \n",
              "2870002  Benign  \n",
              "2553995  Benign  \n",
              "2737017  Benign  \n",
              "2737014  Benign  \n",
              "2737015  Benign  \n",
              "\n",
              "[5 rows x 80 columns]"
            ]
          },
          "execution_count": 10,
          "metadata": {},
          "output_type": "execute_result"
        }
      ],
      "source": [
        "df.head()"
      ]
    },
    {
      "cell_type": "code",
      "execution_count": 11,
      "metadata": {
        "id": "2lv3Dd6dXP6a",
        "outputId": "09c46f82-62a8-4b83-c0f2-fe833aa66e89"
      },
      "outputs": [
        {
          "name": "stdout",
          "output_type": "stream",
          "text": [
            "label\n",
            "Benign                      6112137\n",
            "DDOS attack-HOIC             686012\n",
            "DoS attacks-Hulk             461912\n",
            "Bot                          286191\n",
            "FTP-BruteForce               193360\n",
            "SSH-Bruteforce               187589\n",
            "Infilteration                161934\n",
            "DoS attacks-SlowHTTPTest     139890\n",
            "DoS attacks-GoldenEye         41508\n",
            "DoS attacks-Slowloris         10990\n",
            "DDOS attack-LOIC-UDP           1730\n",
            "Brute Force -Web                611\n",
            "Brute Force -XSS                230\n",
            "SQL Injection                    87\n",
            "Name: count, dtype: int64\n"
          ]
        }
      ],
      "source": [
        "# get count of each label\n",
        "print(df['label'].value_counts())"
      ]
    },
    {
      "cell_type": "code",
      "execution_count": 12,
      "metadata": {
        "id": "NvGpsD9bXP6a",
        "outputId": "1df49449-e963-47e0-9df1-5c4752bc45a5"
      },
      "outputs": [
        {
          "name": "stdout",
          "output_type": "stream",
          "text": [
            "label\n",
            "Benign                      0.737808\n",
            "DDOS attack-HOIC            0.082810\n",
            "DoS attacks-Hulk            0.055758\n",
            "Bot                         0.034547\n",
            "FTP-BruteForce              0.023341\n",
            "SSH-Bruteforce              0.022644\n",
            "Infilteration               0.019547\n",
            "DoS attacks-SlowHTTPTest    0.016886\n",
            "DoS attacks-GoldenEye       0.005011\n",
            "DoS attacks-Slowloris       0.001327\n",
            "DDOS attack-LOIC-UDP        0.000209\n",
            "Brute Force -Web            0.000074\n",
            "Brute Force -XSS            0.000028\n",
            "SQL Injection               0.000011\n",
            "Name: count, dtype: float64\n"
          ]
        }
      ],
      "source": [
        "# get distribution in of each label\n",
        "print(df['label'].value_counts()/len(df))"
      ]
    },
    {
      "cell_type": "markdown",
      "metadata": {
        "id": "1hyJaQOTGlrX"
      },
      "source": [
        "## Downsample the dataset to 100K rows"
      ]
    },
    {
      "cell_type": "code",
      "execution_count": 24,
      "metadata": {
        "colab": {
          "base_uri": "https://localhost:8080/",
          "height": 248
        },
        "id": "AK69eIZKXP6a",
        "outputId": "a47fecc6-0f4c-4240-f85d-0b5cc6a54f5b"
      },
      "outputs": [
        {
          "name": "stdout",
          "output_type": "stream",
          "text": [
            "100k dataframe file exists, loading dataframe...\n",
            "dataframe loaded.\n"
          ]
        }
      ],
      "source": [
        "from sklearn.utils import resample\n",
        "\n",
        "dataframe_file = '../data/multiclassification_dataset.pkl'\n",
        "exists = os.path.isfile(dataframe_file)\n",
        "if exists:\n",
        "    print('100k dataframe file exists, loading dataframe...')\n",
        "    df = pd.read_pickle(dataframe_file)\n",
        "    print('dataframe loaded.')\n",
        "else:\n",
        "    # Calculate class counts\n",
        "    class_counts = df['label'].value_counts().to_dict()\n",
        "\n",
        "    # Total desired number of instances\n",
        "    total_instances = 100000\n",
        "\n",
        "    # Calculate the downsampled number of instances for each class\n",
        "    downsampled_counts = {}\n",
        "    for label, count in class_counts.items():\n",
        "        downsampled_counts[label] = min(count, total_instances // len(class_counts))\n",
        "\n",
        "    # Downsample each class to the desired number of instances\n",
        "    downsampled_data = pd.DataFrame()\n",
        "    for label, count in downsampled_counts.items():\n",
        "        class_data = df[df['label'] == label]\n",
        "        downsampled_data = pd.concat([downsampled_data, resample(class_data,\n",
        "                                                            replace=False,\n",
        "                                                            n_samples=count,\n",
        "                                                            random_state=42)])\n",
        "\n",
        "    # Shuffle the downsampled data\n",
        "    downsampled_data = downsampled_data.sample(frac=1, random_state=42)\n",
        "\n",
        "    # Check the total number of instances\n",
        "    print(\"Total number of instances after downsampling:\", len(downsampled_data))\n",
        "    # save dataframe to file for future use\n",
        "    df = downsampled_data.drop(['dst_port', 'protocol', 'timestamp', 'cwe_flag_count'], axis=1)  # Features\n",
        "    df.sort_index(axis=1, inplace=True)\n",
        "    print('The totale number of features is:', len(df.columns))\n",
        "    pd.to_pickle(df, dataframe_file)\n"
      ]
    },
    {
      "cell_type": "code",
      "execution_count": 25,
      "metadata": {},
      "outputs": [
        {
          "data": {
            "text/plain": [
              "Index(['ack_flag_cnt', 'active_max', 'active_mean', 'active_min', 'active_std',\n",
              "       'bwd_blk_rate_avg', 'bwd_byts_b_avg', 'bwd_header_len', 'bwd_iat_max',\n",
              "       'bwd_iat_mean', 'bwd_iat_min', 'bwd_iat_std', 'bwd_iat_tot',\n",
              "       'bwd_pkt_len_max', 'bwd_pkt_len_mean', 'bwd_pkt_len_min',\n",
              "       'bwd_pkt_len_std', 'bwd_pkts_b_avg', 'bwd_pkts_s', 'bwd_psh_flags',\n",
              "       'bwd_seg_size_avg', 'bwd_urg_flags', 'down_up_ratio', 'ece_flag_cnt',\n",
              "       'fin_flag_cnt', 'flow_byts_s', 'flow_duration', 'flow_iat_max',\n",
              "       'flow_iat_mean', 'flow_iat_min', 'flow_iat_std', 'flow_pkts_s',\n",
              "       'fwd_act_data_pkts', 'fwd_blk_rate_avg', 'fwd_byts_b_avg',\n",
              "       'fwd_header_len', 'fwd_iat_max', 'fwd_iat_mean', 'fwd_iat_min',\n",
              "       'fwd_iat_std', 'fwd_iat_tot', 'fwd_pkt_len_max', 'fwd_pkt_len_mean',\n",
              "       'fwd_pkt_len_min', 'fwd_pkt_len_std', 'fwd_pkts_b_avg', 'fwd_pkts_s',\n",
              "       'fwd_psh_flags', 'fwd_seg_size_avg', 'fwd_seg_size_min',\n",
              "       'fwd_urg_flags', 'idle_max', 'idle_mean', 'idle_min', 'idle_std',\n",
              "       'init_bwd_win_byts', 'init_fwd_win_byts', 'label', 'pkt_len_max',\n",
              "       'pkt_len_mean', 'pkt_len_min', 'pkt_len_std', 'pkt_len_var',\n",
              "       'pkt_size_avg', 'psh_flag_cnt', 'rst_flag_cnt', 'subflow_bwd_byts',\n",
              "       'subflow_bwd_pkts', 'subflow_fwd_byts', 'subflow_fwd_pkts',\n",
              "       'syn_flag_cnt', 'tot_bwd_pkts', 'tot_fwd_pkts', 'totlen_bwd_pkts',\n",
              "       'totlen_fwd_pkts', 'urg_flag_cnt'],\n",
              "      dtype='object')"
            ]
          },
          "execution_count": 25,
          "metadata": {},
          "output_type": "execute_result"
        }
      ],
      "source": [
        "df.columns"
      ]
    },
    {
      "cell_type": "code",
      "execution_count": 26,
      "metadata": {
        "colab": {
          "base_uri": "https://localhost:8080/"
        },
        "id": "ET_1GjcbXP6b",
        "outputId": "898bf47e-124b-443b-ea25-c8b0f3c38b86"
      },
      "outputs": [
        {
          "data": {
            "text/plain": [
              "label\n",
              "DoS attacks-Hulk            7142\n",
              "Bot                         7142\n",
              "DoS attacks-Slowloris       7142\n",
              "DDOS attack-HOIC            7142\n",
              "SSH-Bruteforce              7142\n",
              "Infilteration               7142\n",
              "Benign                      7142\n",
              "DoS attacks-GoldenEye       7142\n",
              "DoS attacks-SlowHTTPTest    7142\n",
              "FTP-BruteForce              7142\n",
              "DDOS attack-LOIC-UDP        1730\n",
              "Brute Force -Web             611\n",
              "Brute Force -XSS             230\n",
              "SQL Injection                 87\n",
              "Name: count, dtype: int64"
            ]
          },
          "execution_count": 26,
          "metadata": {},
          "output_type": "execute_result"
        }
      ],
      "source": [
        "df['label'].value_counts()"
      ]
    },
    {
      "cell_type": "markdown",
      "metadata": {
        "id": "Nb7FWSooHI2w"
      },
      "source": [
        "## Create the multiclassification model for the threat detection"
      ]
    },
    {
      "cell_type": "code",
      "execution_count": 27,
      "metadata": {
        "colab": {
          "base_uri": "https://localhost:8080/"
        },
        "id": "uwBQ-XvKaeT4",
        "outputId": "0697c989-73ff-4886-8081-62d646aae4d7"
      },
      "outputs": [
        {
          "data": {
            "text/plain": [
              "label\n",
              "7     7142\n",
              "1     7142\n",
              "9     7142\n",
              "4     7142\n",
              "13    7142\n",
              "11    7142\n",
              "0     7142\n",
              "6     7142\n",
              "8     7142\n",
              "10    7142\n",
              "5     1730\n",
              "2      611\n",
              "3      230\n",
              "12      87\n",
              "Name: count, dtype: int64"
            ]
          },
          "execution_count": 27,
          "metadata": {},
          "output_type": "execute_result"
        }
      ],
      "source": [
        "from sklearn.preprocessing import LabelEncoder\n",
        "\n",
        "# Encode labels to integers\n",
        "label_encoder = LabelEncoder()\n",
        "df['label'] = label_encoder.fit_transform(df['label'])\n",
        "df['label'].value_counts()"
      ]
    },
    {
      "cell_type": "code",
      "execution_count": 28,
      "metadata": {
        "colab": {
          "base_uri": "https://localhost:8080/"
        },
        "id": "sBM0BLtfXP6b",
        "outputId": "b32a9df1-f79e-47c9-ef72-db5db6dbfed1"
      },
      "outputs": [
        {
          "name": "stdout",
          "output_type": "stream",
          "text": [
            "Shape of X_train: (59262, 75)\n",
            "Shape of X_test: (14816, 75)\n",
            "Shape of y_train: (59262,)\n",
            "Shape of y_test: (14816,)\n"
          ]
        }
      ],
      "source": [
        "from sklearn.model_selection import train_test_split\n",
        "\n",
        "# Assuming you already have your dataset stored in a pandas DataFrame df\n",
        "# X contains the features and y contains the labels\n",
        "X = df.drop(['label'], axis=1)  # Features\n",
        "y = df['label']                # Labels\n",
        "\n",
        "# Optionally, you can also specify stratification to ensure class balance in train and test sets\n",
        "X_train, X_test, y_train, y_test = train_test_split(X, y, test_size=0.2, random_state=42, stratify=y)\n",
        "\n",
        "# Print the shapes of the train and test sets to verify the split\n",
        "print(\"Shape of X_train:\", X_train.shape)\n",
        "print(\"Shape of X_test:\", X_test.shape)\n",
        "print(\"Shape of y_train:\", y_train.shape)\n",
        "print(\"Shape of y_test:\", y_test.shape)"
      ]
    },
    {
      "cell_type": "markdown",
      "metadata": {
        "id": "Jq5jrYW3HZBP"
      },
      "source": [
        "### Random Forest Model"
      ]
    },
    {
      "cell_type": "code",
      "execution_count": 31,
      "metadata": {
        "colab": {
          "base_uri": "https://localhost:8080/"
        },
        "id": "gKWMMIlqXP6c",
        "outputId": "d3d0d5f8-af2a-40b8-d19b-d097b4cba73d"
      },
      "outputs": [
        {
          "name": "stdout",
          "output_type": "stream",
          "text": [
            "Random Forest model exists, loading model...\n",
            "model loaded.\n"
          ]
        }
      ],
      "source": [
        "from sklearn.ensemble import RandomForestClassifier\n",
        "from sklearn.metrics import accuracy_score, classification_report\n",
        "import pickle\n",
        "\n",
        "model_file = '../models/rf_classifier.pkl'\n",
        "\n",
        "exists = os.path.isfile(model_file)\n",
        "\n",
        "if exists:\n",
        "    print('Random Forest model exists, loading model...')\n",
        "    rf_classifier = pickle.load(open(model_file, 'rb'))\n",
        "    print('model loaded.')\n",
        "else:\n",
        "    print('Random Forest model does not exist, training model...')\n",
        "    # Create a Random Forest classifier\n",
        "    rf_classifier = RandomForestClassifier(n_estimators=300, random_state=42)\n",
        "\n",
        "    # Train the classifier on the training data\n",
        "    rf_classifier.fit(X_train, y_train)\n",
        "    print('model trained.')\n",
        "    # save model to file for future use\n",
        "    pickle.dump(rf_classifier, open(model_file, 'wb'))"
      ]
    },
    {
      "cell_type": "markdown",
      "metadata": {},
      "source": [
        "#### Model Evaluation"
      ]
    },
    {
      "cell_type": "code",
      "execution_count": null,
      "metadata": {},
      "outputs": [],
      "source": [
        "# Predict on the test data\n",
        "y_pred = rf_classifier.predict(X_test)\n",
        "\n",
        "# Evaluate the model\n",
        "accuracy = accuracy_score(y_test, y_pred)\n",
        "print(\"Accuracy:\", accuracy)\n",
        "\n",
        "# Print classification report\n",
        "print(\"Classification Report:\")\n",
        "print(classification_report(y_test, y_pred))"
      ]
    },
    {
      "cell_type": "code",
      "execution_count": 17,
      "metadata": {
        "colab": {
          "base_uri": "https://localhost:8080/",
          "height": 564
        },
        "id": "qIyPOQEM0pxn",
        "outputId": "240cb9d7-c163-4df9-ef43-b55aaaeda162"
      },
      "outputs": [
        {
          "data": {
            "image/png": "[encoded data removed]",
            "text/plain": [
              "<Figure size 1000x600 with 1 Axes>"
            ]
          },
          "metadata": {},
          "output_type": "display_data"
        }
      ],
      "source": [
        "import matplotlib.pyplot as plt\n",
        "import seaborn as sns\n",
        "\n",
        "feature_importance = rf_classifier.feature_importances_\n",
        "\n",
        "df_importance = pd.DataFrame({'Feature': X_train.columns, 'Importance': feature_importance})\n",
        "\n",
        "# Sort the DataFrame by feature importance in descending order\n",
        "df_importance_sorted = df_importance.sort_values(by='Importance', ascending=False)\n",
        "\n",
        "# Plot feature importance\n",
        "plt.figure(figsize=(10, 6))\n",
        "sns.barplot(x='Importance', y='Feature', data=df_importance_sorted)\n",
        "plt.title('Feature Importance')\n",
        "plt.xlabel('Importance')\n",
        "plt.ylabel('Feature')\n",
        "plt.show()\n"
      ]
    },
    {
      "cell_type": "markdown",
      "metadata": {
        "id": "ateyAY6XHws4"
      },
      "source": [
        "### Neural Networks"
      ]
    },
    {
      "cell_type": "code",
      "execution_count": null,
      "metadata": {
        "colab": {
          "base_uri": "https://localhost:8080/"
        },
        "id": "1pcQ4b_62Wa_",
        "outputId": "e27d6acd-9d68-4040-a3dc-ed1bb6c96386"
      },
      "outputs": [
        {
          "name": "stdout",
          "output_type": "stream",
          "text": [
            "Epoch 1/100\n",
            "1471/1482 [============================>.] - ETA: 0s - loss: 1.9046 - accuracy: 0.3541"
          ]
        }
      ],
      "source": [
        "import tensorflow as tf\n",
        "from tensorflow import keras\n",
        "from sklearn.model_selection import train_test_split\n",
        "\n",
        "# Assuming you have already split your data into X_train, X_test, y_train, y_test\n",
        "\n",
        "# Define the number of classes\n",
        "num_classes = len(set(y_train))\n",
        "\n",
        "input_shape = X_train.shape[1]\n",
        "\n",
        "\n",
        "model = keras.Sequential([\n",
        "    keras.layers.Dense(input_shape, activation='relu'),\n",
        "    keras.layers.Dropout(0.5),\n",
        "    keras.layers.Dense(32, activation='relu'),\n",
        "    keras.layers.BatchNormalization(),\n",
        "    keras.layers.Dense(num_classes, activation='softmax')\n",
        "])\n",
        "\n",
        "model.compile(optimizer=keras.optimizers.Adam(learning_rate=0.0005),\n",
        "              loss='sparse_categorical_crossentropy',\n",
        "              metrics=['accuracy'])\n",
        "\n",
        "# Train model\n",
        "history = model.fit(X_train, y_train, epochs=100, batch_size=32, validation_split=0.2)\n",
        "\n",
        "# Evaluate model\n",
        "test_loss, test_accuracy = model.evaluate(X_test, y_test)\n",
        "print(\"Test Accuracy:\", test_accuracy)\n"
      ]
    },
    {
      "cell_type": "markdown",
      "metadata": {
        "id": "9cYscM3ZIAwb"
      },
      "source": [
        "### XGBoost Classifier"
      ]
    },
    {
      "cell_type": "code",
      "execution_count": 25,
      "metadata": {
        "colab": {
          "base_uri": "https://localhost:8080/"
        },
        "id": "wAvsWQIGaIQs",
        "outputId": "39bd55cd-db95-4c44-ef57-427b97ac30bf"
      },
      "outputs": [
        {
          "name": "stdout",
          "output_type": "stream",
          "text": [
            "Fitting 5 folds for each of 9 candidates, totalling 45 fits\n",
            "[CV] END ...................learning_rate=0.1, subsample=0.5; total time=  19.1s\n",
            "[CV] END ...................learning_rate=0.1, subsample=0.5; total time=  19.2s\n",
            "[CV] END ...................learning_rate=0.1, subsample=0.5; total time=  14.4s\n",
            "[CV] END ...................learning_rate=0.1, subsample=0.5; total time=  18.1s\n",
            "[CV] END ...................learning_rate=0.1, subsample=0.5; total time=  14.5s\n",
            "[CV] END ...................learning_rate=0.1, subsample=0.7; total time=  15.7s\n",
            "[CV] END ...................learning_rate=0.1, subsample=0.7; total time=  16.5s\n",
            "[CV] END ...................learning_rate=0.1, subsample=0.7; total time=  15.1s\n",
            "[CV] END ...................learning_rate=0.1, subsample=0.7; total time=  14.6s\n",
            "[CV] END ...................learning_rate=0.1, subsample=0.7; total time=  15.3s\n",
            "[CV] END .....................learning_rate=0.1, subsample=1; total time=  16.4s\n",
            "[CV] END .....................learning_rate=0.1, subsample=1; total time=  14.3s\n",
            "[CV] END .....................learning_rate=0.1, subsample=1; total time=  14.3s\n",
            "[CV] END .....................learning_rate=0.1, subsample=1; total time=  14.3s\n",
            "[CV] END .....................learning_rate=0.1, subsample=1; total time=  14.7s\n",
            "[CV] END ..................learning_rate=0.01, subsample=0.5; total time=  14.6s\n",
            "[CV] END ..................learning_rate=0.01, subsample=0.5; total time=  14.2s\n",
            "[CV] END ..................learning_rate=0.01, subsample=0.5; total time=  14.9s\n",
            "[CV] END ..................learning_rate=0.01, subsample=0.5; total time=  13.7s\n",
            "[CV] END ..................learning_rate=0.01, subsample=0.5; total time=  13.7s\n",
            "[CV] END ..................learning_rate=0.01, subsample=0.7; total time=  15.2s\n",
            "[CV] END ..................learning_rate=0.01, subsample=0.7; total time=  14.0s\n",
            "[CV] END ..................learning_rate=0.01, subsample=0.7; total time=  13.7s\n",
            "[CV] END ..................learning_rate=0.01, subsample=0.7; total time=  13.9s\n",
            "[CV] END ..................learning_rate=0.01, subsample=0.7; total time=  13.8s\n",
            "[CV] END ....................learning_rate=0.01, subsample=1; total time=  15.3s\n",
            "[CV] END ....................learning_rate=0.01, subsample=1; total time=  13.7s\n",
            "[CV] END ....................learning_rate=0.01, subsample=1; total time=  14.1s\n",
            "[CV] END ....................learning_rate=0.01, subsample=1; total time=  13.8s\n",
            "[CV] END ....................learning_rate=0.01, subsample=1; total time=  13.7s\n",
            "[CV] END .................learning_rate=0.001, subsample=0.5; total time=  13.7s\n",
            "[CV] END .................learning_rate=0.001, subsample=0.5; total time=  14.8s\n",
            "[CV] END .................learning_rate=0.001, subsample=0.5; total time=  13.4s\n",
            "[CV] END .................learning_rate=0.001, subsample=0.5; total time=  13.6s\n",
            "[CV] END .................learning_rate=0.001, subsample=0.5; total time=  14.1s\n",
            "[CV] END .................learning_rate=0.001, subsample=0.7; total time=  13.7s\n",
            "[CV] END .................learning_rate=0.001, subsample=0.7; total time=  13.8s\n",
            "[CV] END .................learning_rate=0.001, subsample=0.7; total time=  13.3s\n",
            "[CV] END .................learning_rate=0.001, subsample=0.7; total time=  14.7s\n",
            "[CV] END .................learning_rate=0.001, subsample=0.7; total time=  13.3s\n",
            "[CV] END ...................learning_rate=0.001, subsample=1; total time=  13.7s\n",
            "[CV] END ...................learning_rate=0.001, subsample=1; total time=  13.3s\n",
            "[CV] END ...................learning_rate=0.001, subsample=1; total time=  13.5s\n",
            "[CV] END ...................learning_rate=0.001, subsample=1; total time=  13.4s\n",
            "[CV] END ...................learning_rate=0.001, subsample=1; total time=  13.5s\n",
            "Accuracy: 0.8915361771058316\n",
            "Classification Report:\n",
            "              precision    recall  f1-score   support\n",
            "\n",
            "           0       0.79      0.70      0.74      1428\n",
            "           1       0.99      1.00      1.00      1428\n",
            "           2       0.94      0.94      0.94       122\n",
            "           3       0.92      0.74      0.82        46\n",
            "           4       1.00      1.00      1.00      1429\n",
            "           5       1.00      1.00      1.00       346\n",
            "           6       1.00      1.00      1.00      1429\n",
            "           7       1.00      1.00      1.00      1429\n",
            "           8       0.80      0.52      0.63      1428\n",
            "           9       0.99      1.00      1.00      1429\n",
            "          10       0.64      0.87      0.74      1428\n",
            "          11       0.73      0.81      0.76      1428\n",
            "          12       0.75      0.53      0.62        17\n",
            "          13       1.00      1.00      1.00      1429\n",
            "\n",
            "    accuracy                           0.89     14816\n",
            "   macro avg       0.90      0.86      0.88     14816\n",
            "weighted avg       0.90      0.89      0.89     14816\n",
            "\n",
            "Best Parameters: {'learning_rate': 0.1, 'subsample': 0.7}\n"
          ]
        }
      ],
      "source": [
        "import xgboost as xgb\n",
        "from sklearn.metrics import accuracy_score, classification_report\n",
        "from sklearn.model_selection import GridSearchCV\n",
        "from sklearn.preprocessing import LabelEncoder\n",
        "\n",
        "# Assuming you have already split your data into X_train, X_test, y_train, y_test\n",
        "# Assuming num_classes is already defined\n",
        "\n",
        "# Initialize XGBoost classifier\n",
        "xgb_classifier = xgb.XGBClassifier(objective='multi:softmax', num_class=num_classes)\n",
        "\n",
        "# Define hyperparameters grid\n",
        "param_grid = {\n",
        "    'learning_rate': [0.1, 0.01, 0.001],\n",
        "    'subsample': [0.5, 0.7, 1]\n",
        "}\n",
        "\n",
        "# Initialize GridSearchCV\n",
        "grid_search = GridSearchCV(estimator=xgb_classifier, param_grid=param_grid, cv=5, scoring='accuracy', verbose=2)\n",
        "\n",
        "# Perform Grid Search Cross Validation\n",
        "grid_search.fit(X_train, y_train)\n",
        "\n",
        "# Get best estimator\n",
        "best_xgb_classifier = grid_search.best_estimator_\n",
        "\n",
        "# Make predictions\n",
        "y_pred = best_xgb_classifier.predict(X_test)\n",
        "\n",
        "# Evaluate the model\n",
        "accuracy = accuracy_score(y_test, y_pred)\n",
        "print(\"Accuracy:\", accuracy)\n",
        "\n",
        "# Print classification report\n",
        "print(\"Classification Report:\")\n",
        "print(classification_report(y_test, y_pred))\n",
        "\n",
        "# Print best parameters\n",
        "print(\"Best Parameters:\", grid_search.best_params_)\n"
      ]
    },
    {
      "cell_type": "markdown",
      "metadata": {
        "id": "K0GNjV4DIOVq"
      },
      "source": [
        "### Logistic Regression"
      ]
    },
    {
      "cell_type": "code",
      "execution_count": null,
      "metadata": {
        "id": "-G9feutkXP6d"
      },
      "outputs": [],
      "source": [
        "from sklearn.linear_model import LogisticRegression\n",
        "from sklearn.metrics import accuracy_score, classification_report\n",
        "from sklearn.model_selection import train_test_split\n",
        "\n",
        "# Assuming you have already split your data into X_train, X_test, y_train, y_test\n",
        "\n",
        "# Initialize the Logistic Regression classifier\n",
        "logistic_regression = LogisticRegression(C=0.001, max_iter=1000, solver='saga', penalty='l1', verbose=1)  # Increase max_iter if needed\n",
        "\n",
        "# Train the classifier on the training data\n",
        "logistic_regression.fit(X_train, y_train)\n",
        "\n",
        "# Make predictions on the test data\n",
        "y_pred = logistic_regression.predict(X_test)\n",
        "\n",
        "# Evaluate the model\n",
        "accuracy = accuracy_score(y_test, y_pred)\n",
        "print(\"Accuracy:\", accuracy)\n",
        "\n",
        "# Print classification report\n",
        "print(\"Classification Report:\")\n",
        "print(classification_report(y_test, y_pred))\n"
      ]
    }
  ],
  "metadata": {
    "accelerator": "GPU",
    "colab": {
      "gpuType": "T4",
      "provenance": [],
      "toc_visible": true
    },
    "kernelspec": {
      "display_name": "Python 3",
      "name": "python3"
    },
    "language_info": {
      "codemirror_mode": {
        "name": "ipython",
        "version": 3
      },
      "file_extension": ".py",
      "mimetype": "text/x-python",
      "name": "python",
      "nbconvert_exporter": "python",
      "pygments_lexer": "ipython3",
      "version": "3.11.6"
    }
  },
  "nbformat": 4,
  "nbformat_minor": 0
}
